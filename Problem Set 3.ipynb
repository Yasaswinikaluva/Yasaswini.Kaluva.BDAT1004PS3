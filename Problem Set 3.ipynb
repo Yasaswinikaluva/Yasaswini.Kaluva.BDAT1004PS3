{
 "cells": [
  {
   "cell_type": "markdown",
   "id": "0ec8f3f2",
   "metadata": {},
   "source": [
    "# Problem Set 3"
   ]
  },
  {
   "cell_type": "markdown",
   "id": "afa8f81f",
   "metadata": {},
   "source": [
    "\n"
   ]
  },
  {
   "cell_type": "markdown",
   "id": "395517e9",
   "metadata": {},
   "source": [
    "## Question 1"
   ]
  },
  {
   "cell_type": "code",
   "execution_count": 23,
   "id": "332af2ab",
   "metadata": {
    "scrolled": false
   },
   "outputs": [
    {
     "name": "stdout",
     "output_type": "stream",
     "text": [
      "     user_id  age gender     occupation zip_code\n",
      "0          1   24      M     technician    85711\n",
      "1          2   53      F          other    94043\n",
      "2          3   23      M         writer    32067\n",
      "3          4   24      M     technician    43537\n",
      "4          5   33      F          other    15213\n",
      "..       ...  ...    ...            ...      ...\n",
      "938      939   26      F        student    33319\n",
      "939      940   32      M  administrator    02215\n",
      "940      941   20      M        student    97229\n",
      "941      942   48      F      librarian    78209\n",
      "942      943   22      M        student    77841\n",
      "\n",
      "[943 rows x 5 columns]\n"
     ]
    }
   ],
   "source": [
    "import pandas as pd\n",
    "\n",
    "url = \"https://raw.githubusercontent.com/justmarkham/DAT8/master/data/u.user\"\n",
    "users = pd.read_csv(url, sep='|')\n",
    "\n",
    "print(users)"
   ]
  },
  {
   "cell_type": "code",
   "execution_count": 22,
   "id": "9aa29dba",
   "metadata": {},
   "outputs": [
    {
     "name": "stdout",
     "output_type": "stream",
     "text": [
      "Mean age by occupation:\n",
      "occupation\n",
      "administrator    38.746835\n",
      "artist           31.392857\n",
      "doctor           43.571429\n",
      "educator         42.010526\n",
      "engineer         36.388060\n",
      "entertainment    29.222222\n",
      "executive        38.718750\n",
      "healthcare       41.562500\n",
      "homemaker        32.571429\n",
      "lawyer           36.750000\n",
      "librarian        40.000000\n",
      "marketing        37.615385\n",
      "none             26.555556\n",
      "other            34.523810\n",
      "programmer       33.121212\n",
      "retired          63.071429\n",
      "salesman         35.666667\n",
      "scientist        35.548387\n",
      "student          22.081633\n",
      "technician       33.148148\n",
      "writer           36.311111\n",
      "Name: age, dtype: float64\n"
     ]
    }
   ],
   "source": [
    "# Calculating mean age by occupation\n",
    "mean_age_by_occupation = users.groupby('occupation')['age'].mean()\n",
    "print(\"Mean age by occupation:\")\n",
    "print(mean_age_by_occupation)"
   ]
  },
  {
   "cell_type": "code",
   "execution_count": 13,
   "id": "a452d5ca",
   "metadata": {},
   "outputs": [
    {
     "name": "stdout",
     "output_type": "stream",
     "text": [
      "occupation\n",
      "doctor           1.000000\n",
      "engineer         0.970149\n",
      "technician       0.962963\n",
      "retired          0.928571\n",
      "programmer       0.909091\n",
      "executive        0.906250\n",
      "scientist        0.903226\n",
      "entertainment    0.888889\n",
      "lawyer           0.833333\n",
      "salesman         0.750000\n",
      "educator         0.726316\n",
      "student          0.693878\n",
      "other            0.657143\n",
      "marketing        0.615385\n",
      "writer           0.577778\n",
      "none             0.555556\n",
      "administrator    0.544304\n",
      "artist           0.535714\n",
      "librarian        0.431373\n",
      "healthcare       0.312500\n",
      "homemaker        0.142857\n",
      "Name: gender, dtype: float64\n"
     ]
    }
   ],
   "source": [
    "# calculateing male ratio per occupation\n",
    "male_ratio = users.groupby('occupation')['gender'].apply(lambda x: (x=='M').sum() / x.count())\n",
    "male_ratio.sort_values(ascending=False, inplace=True)\n",
    "print(male_ratio)"
   ]
  },
  {
   "cell_type": "code",
   "execution_count": 8,
   "id": "6989199b",
   "metadata": {},
   "outputs": [
    {
     "name": "stdout",
     "output_type": "stream",
     "text": [
      "               min  max\n",
      "occupation             \n",
      "administrator   21   70\n",
      "artist          19   48\n",
      "doctor          28   64\n",
      "educator        23   63\n",
      "engineer        22   70\n",
      "entertainment   15   50\n",
      "executive       22   69\n",
      "healthcare      22   62\n",
      "homemaker       20   50\n",
      "lawyer          21   53\n",
      "librarian       23   69\n",
      "marketing       24   55\n",
      "none            11   55\n",
      "other           13   64\n",
      "programmer      20   63\n",
      "retired         51   73\n",
      "salesman        18   66\n",
      "scientist       23   55\n",
      "student          7   42\n",
      "technician      21   55\n",
      "writer          18   60\n"
     ]
    }
   ],
   "source": [
    "# calculate the minimum and maximum ages for each occupation\n",
    "age_range = users.groupby('occupation')['age'].agg(['min', 'max'])\n",
    "\n",
    "print(age_range)"
   ]
  },
  {
   "cell_type": "code",
   "execution_count": 9,
   "id": "62dc3648",
   "metadata": {},
   "outputs": [
    {
     "name": "stdout",
     "output_type": "stream",
     "text": [
      "occupation     gender\n",
      "administrator  F         40.638889\n",
      "               M         37.162791\n",
      "artist         F         30.307692\n",
      "               M         32.333333\n",
      "doctor         M         43.571429\n",
      "educator       F         39.115385\n",
      "               M         43.101449\n",
      "engineer       F         29.500000\n",
      "               M         36.600000\n",
      "entertainment  F         31.000000\n",
      "               M         29.000000\n",
      "executive      F         44.000000\n",
      "               M         38.172414\n",
      "healthcare     F         39.818182\n",
      "               M         45.400000\n",
      "homemaker      F         34.166667\n",
      "               M         23.000000\n",
      "lawyer         F         39.500000\n",
      "               M         36.200000\n",
      "librarian      F         40.000000\n",
      "               M         40.000000\n",
      "marketing      F         37.200000\n",
      "               M         37.875000\n",
      "none           F         36.500000\n",
      "               M         18.600000\n",
      "other          F         35.472222\n",
      "               M         34.028986\n",
      "programmer     F         32.166667\n",
      "               M         33.216667\n",
      "retired        F         70.000000\n",
      "               M         62.538462\n",
      "salesman       F         27.000000\n",
      "               M         38.555556\n",
      "scientist      F         28.333333\n",
      "               M         36.321429\n",
      "student        F         20.750000\n",
      "               M         22.669118\n",
      "technician     F         38.000000\n",
      "               M         32.961538\n",
      "writer         F         37.631579\n",
      "               M         35.346154\n",
      "Name: age, dtype: float64\n"
     ]
    }
   ],
   "source": [
    "# calculate the mean age for each combination of occupation and sex\n",
    "mean_age = users.groupby(['occupation', 'gender'])['age'].mean()\n",
    "\n",
    "print(mean_age)"
   ]
  },
  {
   "cell_type": "code",
   "execution_count": 10,
   "id": "0f37caa3",
   "metadata": {
    "scrolled": false
   },
   "outputs": [
    {
     "name": "stdout",
     "output_type": "stream",
     "text": [
      "occupation     gender\n",
      "administrator  F          45.57\n",
      "               M          54.43\n",
      "artist         F          46.43\n",
      "               M          53.57\n",
      "doctor         M         100.00\n",
      "educator       F          27.37\n",
      "               M          72.63\n",
      "engineer       F           2.99\n",
      "               M          97.01\n",
      "entertainment  F          11.11\n",
      "               M          88.89\n",
      "executive      F           9.38\n",
      "               M          90.62\n",
      "healthcare     F          68.75\n",
      "               M          31.25\n",
      "homemaker      F          85.71\n",
      "               M          14.29\n",
      "lawyer         F          16.67\n",
      "               M          83.33\n",
      "librarian      F          56.86\n",
      "               M          43.14\n",
      "marketing      F          38.46\n",
      "               M          61.54\n",
      "none           F          44.44\n",
      "               M          55.56\n",
      "other          F          34.29\n",
      "               M          65.71\n",
      "programmer     F           9.09\n",
      "               M          90.91\n",
      "retired        F           7.14\n",
      "               M          92.86\n",
      "salesman       F          25.00\n",
      "               M          75.00\n",
      "scientist      F           9.68\n",
      "               M          90.32\n",
      "student        F          30.61\n",
      "               M          69.39\n",
      "technician     F           3.70\n",
      "               M          96.30\n",
      "writer         F          42.22\n",
      "               M          57.78\n",
      "Name: gender, dtype: float64\n"
     ]
    }
   ],
   "source": [
    "# calculate the total count of each occupation\n",
    "occupation_count = users.groupby('occupation')['gender'].count()\n",
    "\n",
    "# calculate the count of each gender for each occupation\n",
    "gender_count = users.groupby(['occupation', 'gender'])['gender'].count()\n",
    "\n",
    "# calculate the percentage of each gender for each occupation\n",
    "gender_percentage = (gender_count / occupation_count * 100).round(2)\n",
    "\n",
    "print(gender_percentage)"
   ]
  },
  {
   "cell_type": "markdown",
   "id": "a2e6776a",
   "metadata": {},
   "source": [
    "\n",
    "\n"
   ]
  },
  {
   "cell_type": "markdown",
   "id": "9d8da87f",
   "metadata": {},
   "source": [
    "## Question 2"
   ]
  },
  {
   "cell_type": "code",
   "execution_count": 21,
   "id": "c8fb4633",
   "metadata": {},
   "outputs": [
    {
     "name": "stdout",
     "output_type": "stream",
     "text": [
      "                   Team  Goals  Shots on target  Shots off target  \\\n",
      "0               Croatia      4               13                12   \n",
      "1        Czech Republic      4               13                18   \n",
      "2               Denmark      4               10                10   \n",
      "3               England      5               11                18   \n",
      "4                France      3               22                24   \n",
      "5               Germany     10               32                32   \n",
      "6                Greece      5                8                18   \n",
      "7                 Italy      6               34                45   \n",
      "8           Netherlands      2               12                36   \n",
      "9                Poland      2               15                23   \n",
      "10             Portugal      6               22                42   \n",
      "11  Republic of Ireland      1                7                12   \n",
      "12               Russia      5                9                31   \n",
      "13                Spain     12               42                33   \n",
      "14               Sweden      5               17                19   \n",
      "15              Ukraine      2                7                26   \n",
      "\n",
      "   Shooting Accuracy % Goals-to-shots  Total shots (inc. Blocked)  \\\n",
      "0              51.9%            16.0%                          32   \n",
      "1              41.9%            12.9%                          39   \n",
      "2              50.0%            20.0%                          27   \n",
      "3              50.0%            17.2%                          40   \n",
      "4              37.9%             6.5%                          65   \n",
      "5              47.8%            15.6%                          80   \n",
      "6              30.7%            19.2%                          32   \n",
      "7              43.0%             7.5%                         110   \n",
      "8              25.0%             4.1%                          60   \n",
      "9              39.4%             5.2%                          48   \n",
      "10             34.3%             9.3%                          82   \n",
      "11             36.8%             5.2%                          28   \n",
      "12             22.5%            12.5%                          59   \n",
      "13             55.9%            16.0%                         100   \n",
      "14             47.2%            13.8%                          39   \n",
      "15             21.2%             6.0%                          38   \n",
      "\n",
      "    Hit Woodwork  Penalty goals  Penalties not scored  ...  Saves made  \\\n",
      "0              0              0                     0  ...          13   \n",
      "1              0              0                     0  ...           9   \n",
      "2              1              0                     0  ...          10   \n",
      "3              0              0                     0  ...          22   \n",
      "4              1              0                     0  ...           6   \n",
      "5              2              1                     0  ...          10   \n",
      "6              1              1                     1  ...          13   \n",
      "7              2              0                     0  ...          20   \n",
      "8              2              0                     0  ...          12   \n",
      "9              0              0                     0  ...           6   \n",
      "10             6              0                     0  ...          10   \n",
      "11             0              0                     0  ...          17   \n",
      "12             2              0                     0  ...          10   \n",
      "13             0              1                     0  ...          15   \n",
      "14             3              0                     0  ...           8   \n",
      "15             0              0                     0  ...          13   \n",
      "\n",
      "    Saves-to-shots ratio  Fouls Won Fouls Conceded  Offsides  Yellow Cards  \\\n",
      "0                  81.3%         41             62         2             9   \n",
      "1                  60.1%         53             73         8             7   \n",
      "2                  66.7%         25             38         8             4   \n",
      "3                  88.1%         43             45         6             5   \n",
      "4                  54.6%         36             51         5             6   \n",
      "5                  62.6%         63             49        12             4   \n",
      "6                  65.1%         67             48        12             9   \n",
      "7                  74.1%        101             89        16            16   \n",
      "8                  70.6%         35             30         3             5   \n",
      "9                  66.7%         48             56         3             7   \n",
      "10                 71.5%         73             90        10            12   \n",
      "11                 65.4%         43             51        11             6   \n",
      "12                 77.0%         34             43         4             6   \n",
      "13                 93.8%        102             83        19            11   \n",
      "14                 61.6%         35             51         7             7   \n",
      "15                 76.5%         48             31         4             5   \n",
      "\n",
      "    Red Cards  Subs on  Subs off  Players Used  \n",
      "0           0        9         9            16  \n",
      "1           0       11        11            19  \n",
      "2           0        7         7            15  \n",
      "3           0       11        11            16  \n",
      "4           0       11        11            19  \n",
      "5           0       15        15            17  \n",
      "6           1       12        12            20  \n",
      "7           0       18        18            19  \n",
      "8           0        7         7            15  \n",
      "9           1        7         7            17  \n",
      "10          0       14        14            16  \n",
      "11          1       10        10            17  \n",
      "12          0        7         7            16  \n",
      "13          0       17        17            18  \n",
      "14          0        9         9            18  \n",
      "15          0        9         9            18  \n",
      "\n",
      "[16 rows x 35 columns]\n"
     ]
    }
   ],
   "source": [
    "import pandas as pd\n",
    "\n",
    "url = \"https://raw.githubusercontent.com/guipsamora/pandas_exercises/master/02_Filtering_%26_Sorting/Euro12/Euro_2012_stats_TEAM.csv\"\n",
    "euro12 = pd.read_csv(url, sep=',')\n",
    "\n",
    "\n",
    "print(euro12)"
   ]
  },
  {
   "cell_type": "code",
   "execution_count": 20,
   "id": "b6ff1b3e",
   "metadata": {},
   "outputs": [
    {
     "name": "stdout",
     "output_type": "stream",
     "text": [
      "0      4\n",
      "1      4\n",
      "2      4\n",
      "3      5\n",
      "4      3\n",
      "5     10\n",
      "6      5\n",
      "7      6\n",
      "8      2\n",
      "9      2\n",
      "10     6\n",
      "11     1\n",
      "12     5\n",
      "13    12\n",
      "14     5\n",
      "15     2\n",
      "Name: Goals, dtype: int64\n"
     ]
    }
   ],
   "source": [
    "# Select only the Goal column\n",
    "goal_column = euro12['Goals']\n",
    "print(goal_column)"
   ]
  },
  {
   "cell_type": "code",
   "execution_count": 18,
   "id": "cce9e910",
   "metadata": {},
   "outputs": [
    {
     "name": "stdout",
     "output_type": "stream",
     "text": [
      "Number of teams in Euro2012: 16\n"
     ]
    }
   ],
   "source": [
    "# Teams participated in the Euro2012\n",
    "num_teams = len(euro12['Team'].unique())\n",
    "print(\"Number of teams in Euro2012:\", num_teams)"
   ]
  },
  {
   "cell_type": "code",
   "execution_count": 19,
   "id": "64ee899c",
   "metadata": {},
   "outputs": [
    {
     "name": "stdout",
     "output_type": "stream",
     "text": [
      "Number of columns: 35\n"
     ]
    }
   ],
   "source": [
    "# Number of columns in the dataset\n",
    "num_cols = euro12.shape[1]\n",
    "print(\"Number of columns:\", num_cols)"
   ]
  },
  {
   "cell_type": "code",
   "execution_count": 24,
   "id": "87e1606b",
   "metadata": {},
   "outputs": [
    {
     "name": "stdout",
     "output_type": "stream",
     "text": [
      "                   Team  Yellow Cards  Red Cards\n",
      "0               Croatia             9          0\n",
      "1        Czech Republic             7          0\n",
      "2               Denmark             4          0\n",
      "3               England             5          0\n",
      "4                France             6          0\n",
      "5               Germany             4          0\n",
      "6                Greece             9          1\n",
      "7                 Italy            16          0\n",
      "8           Netherlands             5          0\n",
      "9                Poland             7          1\n",
      "10             Portugal            12          0\n",
      "11  Republic of Ireland             6          1\n",
      "12               Russia             6          0\n",
      "13                Spain            11          0\n",
      "14               Sweden             7          0\n",
      "15              Ukraine             5          0\n"
     ]
    }
   ],
   "source": [
    "discipline = euro12[['Team', 'Yellow Cards', 'Red Cards']]\n",
    "print(discipline)"
   ]
  },
  {
   "cell_type": "code",
   "execution_count": 25,
   "id": "ceefb6e9",
   "metadata": {},
   "outputs": [
    {
     "name": "stdout",
     "output_type": "stream",
     "text": [
      "                   Team  Yellow Cards  Red Cards\n",
      "6                Greece             9          1\n",
      "9                Poland             7          1\n",
      "11  Republic of Ireland             6          1\n",
      "7                 Italy            16          0\n",
      "10             Portugal            12          0\n",
      "13                Spain            11          0\n",
      "0               Croatia             9          0\n",
      "1        Czech Republic             7          0\n",
      "14               Sweden             7          0\n",
      "4                France             6          0\n",
      "12               Russia             6          0\n",
      "3               England             5          0\n",
      "8           Netherlands             5          0\n",
      "15              Ukraine             5          0\n",
      "2               Denmark             4          0\n",
      "5               Germany             4          0\n"
     ]
    }
   ],
   "source": [
    "# Sorting by cards\n",
    "discipline = euro12[['Team', 'Yellow Cards', 'Red Cards']]\n",
    "discipline = discipline.sort_values(['Red Cards', 'Yellow Cards'], ascending=[False, False])\n",
    "print(discipline)"
   ]
  },
  {
   "cell_type": "code",
   "execution_count": 26,
   "id": "7da74ad3",
   "metadata": {},
   "outputs": [
    {
     "name": "stdout",
     "output_type": "stream",
     "text": [
      "Mean Yellow Cards given per Team:  7.4375\n"
     ]
    }
   ],
   "source": [
    "# Mean of Yellow cards per team\n",
    "mean_yellow_cards = euro12['Yellow Cards'].mean()\n",
    "print(\"Mean Yellow Cards given per Team: \", mean_yellow_cards)"
   ]
  },
  {
   "cell_type": "code",
   "execution_count": 27,
   "id": "b9a4b712",
   "metadata": {},
   "outputs": [
    {
     "name": "stdout",
     "output_type": "stream",
     "text": [
      "5     Germany\n",
      "13      Spain\n",
      "Name: Team, dtype: object\n"
     ]
    }
   ],
   "source": [
    "# Filter teams that scored more than 6 goals\n",
    "high_scorers = euro12[euro12['Goals'] > 6]['Team']\n",
    "print(high_scorers)"
   ]
  },
  {
   "cell_type": "code",
   "execution_count": 28,
   "id": "901b2966",
   "metadata": {},
   "outputs": [
    {
     "name": "stdout",
     "output_type": "stream",
     "text": [
      "      Team  Goals  Shots on target  Shots off target Shooting Accuracy  \\\n",
      "5  Germany     10               32                32             47.8%   \n",
      "6   Greece      5                8                18             30.7%   \n",
      "\n",
      "  % Goals-to-shots  Total shots (inc. Blocked)  Hit Woodwork  Penalty goals  \\\n",
      "5            15.6%                          80             2              1   \n",
      "6            19.2%                          32             1              1   \n",
      "\n",
      "   Penalties not scored  ...  Saves made  Saves-to-shots ratio  Fouls Won  \\\n",
      "5                     0  ...          10                 62.6%         63   \n",
      "6                     1  ...          13                 65.1%         67   \n",
      "\n",
      "  Fouls Conceded  Offsides  Yellow Cards  Red Cards  Subs on  Subs off  \\\n",
      "5             49        12             4          0       15        15   \n",
      "6             48        12             9          1       12        12   \n",
      "\n",
      "   Players Used  \n",
      "5            17  \n",
      "6            20  \n",
      "\n",
      "[2 rows x 35 columns]\n"
     ]
    }
   ],
   "source": [
    "# selecting teams that start with G\n",
    "g_teams = euro12[euro12['Team'].str.startswith('G')]\n",
    "print(g_teams)\n"
   ]
  },
  {
   "cell_type": "code",
   "execution_count": 29,
   "id": "1b25fa17",
   "metadata": {},
   "outputs": [
    {
     "data": {
      "text/html": [
       "<div>\n",
       "<style scoped>\n",
       "    .dataframe tbody tr th:only-of-type {\n",
       "        vertical-align: middle;\n",
       "    }\n",
       "\n",
       "    .dataframe tbody tr th {\n",
       "        vertical-align: top;\n",
       "    }\n",
       "\n",
       "    .dataframe thead th {\n",
       "        text-align: right;\n",
       "    }\n",
       "</style>\n",
       "<table border=\"1\" class=\"dataframe\">\n",
       "  <thead>\n",
       "    <tr style=\"text-align: right;\">\n",
       "      <th></th>\n",
       "      <th>Team</th>\n",
       "      <th>Goals</th>\n",
       "      <th>Shots on target</th>\n",
       "      <th>Shots off target</th>\n",
       "      <th>Shooting Accuracy</th>\n",
       "      <th>% Goals-to-shots</th>\n",
       "      <th>Total shots (inc. Blocked)</th>\n",
       "    </tr>\n",
       "  </thead>\n",
       "  <tbody>\n",
       "    <tr>\n",
       "      <th>0</th>\n",
       "      <td>Croatia</td>\n",
       "      <td>4</td>\n",
       "      <td>13</td>\n",
       "      <td>12</td>\n",
       "      <td>51.9%</td>\n",
       "      <td>16.0%</td>\n",
       "      <td>32</td>\n",
       "    </tr>\n",
       "    <tr>\n",
       "      <th>1</th>\n",
       "      <td>Czech Republic</td>\n",
       "      <td>4</td>\n",
       "      <td>13</td>\n",
       "      <td>18</td>\n",
       "      <td>41.9%</td>\n",
       "      <td>12.9%</td>\n",
       "      <td>39</td>\n",
       "    </tr>\n",
       "    <tr>\n",
       "      <th>2</th>\n",
       "      <td>Denmark</td>\n",
       "      <td>4</td>\n",
       "      <td>10</td>\n",
       "      <td>10</td>\n",
       "      <td>50.0%</td>\n",
       "      <td>20.0%</td>\n",
       "      <td>27</td>\n",
       "    </tr>\n",
       "    <tr>\n",
       "      <th>3</th>\n",
       "      <td>England</td>\n",
       "      <td>5</td>\n",
       "      <td>11</td>\n",
       "      <td>18</td>\n",
       "      <td>50.0%</td>\n",
       "      <td>17.2%</td>\n",
       "      <td>40</td>\n",
       "    </tr>\n",
       "    <tr>\n",
       "      <th>4</th>\n",
       "      <td>France</td>\n",
       "      <td>3</td>\n",
       "      <td>22</td>\n",
       "      <td>24</td>\n",
       "      <td>37.9%</td>\n",
       "      <td>6.5%</td>\n",
       "      <td>65</td>\n",
       "    </tr>\n",
       "    <tr>\n",
       "      <th>5</th>\n",
       "      <td>Germany</td>\n",
       "      <td>10</td>\n",
       "      <td>32</td>\n",
       "      <td>32</td>\n",
       "      <td>47.8%</td>\n",
       "      <td>15.6%</td>\n",
       "      <td>80</td>\n",
       "    </tr>\n",
       "    <tr>\n",
       "      <th>6</th>\n",
       "      <td>Greece</td>\n",
       "      <td>5</td>\n",
       "      <td>8</td>\n",
       "      <td>18</td>\n",
       "      <td>30.7%</td>\n",
       "      <td>19.2%</td>\n",
       "      <td>32</td>\n",
       "    </tr>\n",
       "    <tr>\n",
       "      <th>7</th>\n",
       "      <td>Italy</td>\n",
       "      <td>6</td>\n",
       "      <td>34</td>\n",
       "      <td>45</td>\n",
       "      <td>43.0%</td>\n",
       "      <td>7.5%</td>\n",
       "      <td>110</td>\n",
       "    </tr>\n",
       "    <tr>\n",
       "      <th>8</th>\n",
       "      <td>Netherlands</td>\n",
       "      <td>2</td>\n",
       "      <td>12</td>\n",
       "      <td>36</td>\n",
       "      <td>25.0%</td>\n",
       "      <td>4.1%</td>\n",
       "      <td>60</td>\n",
       "    </tr>\n",
       "    <tr>\n",
       "      <th>9</th>\n",
       "      <td>Poland</td>\n",
       "      <td>2</td>\n",
       "      <td>15</td>\n",
       "      <td>23</td>\n",
       "      <td>39.4%</td>\n",
       "      <td>5.2%</td>\n",
       "      <td>48</td>\n",
       "    </tr>\n",
       "    <tr>\n",
       "      <th>10</th>\n",
       "      <td>Portugal</td>\n",
       "      <td>6</td>\n",
       "      <td>22</td>\n",
       "      <td>42</td>\n",
       "      <td>34.3%</td>\n",
       "      <td>9.3%</td>\n",
       "      <td>82</td>\n",
       "    </tr>\n",
       "    <tr>\n",
       "      <th>11</th>\n",
       "      <td>Republic of Ireland</td>\n",
       "      <td>1</td>\n",
       "      <td>7</td>\n",
       "      <td>12</td>\n",
       "      <td>36.8%</td>\n",
       "      <td>5.2%</td>\n",
       "      <td>28</td>\n",
       "    </tr>\n",
       "    <tr>\n",
       "      <th>12</th>\n",
       "      <td>Russia</td>\n",
       "      <td>5</td>\n",
       "      <td>9</td>\n",
       "      <td>31</td>\n",
       "      <td>22.5%</td>\n",
       "      <td>12.5%</td>\n",
       "      <td>59</td>\n",
       "    </tr>\n",
       "    <tr>\n",
       "      <th>13</th>\n",
       "      <td>Spain</td>\n",
       "      <td>12</td>\n",
       "      <td>42</td>\n",
       "      <td>33</td>\n",
       "      <td>55.9%</td>\n",
       "      <td>16.0%</td>\n",
       "      <td>100</td>\n",
       "    </tr>\n",
       "    <tr>\n",
       "      <th>14</th>\n",
       "      <td>Sweden</td>\n",
       "      <td>5</td>\n",
       "      <td>17</td>\n",
       "      <td>19</td>\n",
       "      <td>47.2%</td>\n",
       "      <td>13.8%</td>\n",
       "      <td>39</td>\n",
       "    </tr>\n",
       "    <tr>\n",
       "      <th>15</th>\n",
       "      <td>Ukraine</td>\n",
       "      <td>2</td>\n",
       "      <td>7</td>\n",
       "      <td>26</td>\n",
       "      <td>21.2%</td>\n",
       "      <td>6.0%</td>\n",
       "      <td>38</td>\n",
       "    </tr>\n",
       "  </tbody>\n",
       "</table>\n",
       "</div>"
      ],
      "text/plain": [
       "                   Team  Goals  Shots on target  Shots off target  \\\n",
       "0               Croatia      4               13                12   \n",
       "1        Czech Republic      4               13                18   \n",
       "2               Denmark      4               10                10   \n",
       "3               England      5               11                18   \n",
       "4                France      3               22                24   \n",
       "5               Germany     10               32                32   \n",
       "6                Greece      5                8                18   \n",
       "7                 Italy      6               34                45   \n",
       "8           Netherlands      2               12                36   \n",
       "9                Poland      2               15                23   \n",
       "10             Portugal      6               22                42   \n",
       "11  Republic of Ireland      1                7                12   \n",
       "12               Russia      5                9                31   \n",
       "13                Spain     12               42                33   \n",
       "14               Sweden      5               17                19   \n",
       "15              Ukraine      2                7                26   \n",
       "\n",
       "   Shooting Accuracy % Goals-to-shots  Total shots (inc. Blocked)  \n",
       "0              51.9%            16.0%                          32  \n",
       "1              41.9%            12.9%                          39  \n",
       "2              50.0%            20.0%                          27  \n",
       "3              50.0%            17.2%                          40  \n",
       "4              37.9%             6.5%                          65  \n",
       "5              47.8%            15.6%                          80  \n",
       "6              30.7%            19.2%                          32  \n",
       "7              43.0%             7.5%                         110  \n",
       "8              25.0%             4.1%                          60  \n",
       "9              39.4%             5.2%                          48  \n",
       "10             34.3%             9.3%                          82  \n",
       "11             36.8%             5.2%                          28  \n",
       "12             22.5%            12.5%                          59  \n",
       "13             55.9%            16.0%                         100  \n",
       "14             47.2%            13.8%                          39  \n",
       "15             21.2%             6.0%                          38  "
      ]
     },
     "execution_count": 29,
     "metadata": {},
     "output_type": "execute_result"
    }
   ],
   "source": [
    "# First 7 columns\n",
    "euro12.iloc[:, :7]"
   ]
  },
  {
   "cell_type": "code",
   "execution_count": 30,
   "id": "fa1427d2",
   "metadata": {},
   "outputs": [
    {
     "data": {
      "text/html": [
       "<div>\n",
       "<style scoped>\n",
       "    .dataframe tbody tr th:only-of-type {\n",
       "        vertical-align: middle;\n",
       "    }\n",
       "\n",
       "    .dataframe tbody tr th {\n",
       "        vertical-align: top;\n",
       "    }\n",
       "\n",
       "    .dataframe thead th {\n",
       "        text-align: right;\n",
       "    }\n",
       "</style>\n",
       "<table border=\"1\" class=\"dataframe\">\n",
       "  <thead>\n",
       "    <tr style=\"text-align: right;\">\n",
       "      <th></th>\n",
       "      <th>Team</th>\n",
       "      <th>Goals</th>\n",
       "      <th>Shots on target</th>\n",
       "      <th>Shots off target</th>\n",
       "      <th>Shooting Accuracy</th>\n",
       "      <th>% Goals-to-shots</th>\n",
       "      <th>Total shots (inc. Blocked)</th>\n",
       "      <th>Hit Woodwork</th>\n",
       "      <th>Penalty goals</th>\n",
       "      <th>Penalties not scored</th>\n",
       "      <th>...</th>\n",
       "      <th>Clean Sheets</th>\n",
       "      <th>Blocks</th>\n",
       "      <th>Goals conceded</th>\n",
       "      <th>Saves made</th>\n",
       "      <th>Saves-to-shots ratio</th>\n",
       "      <th>Fouls Won</th>\n",
       "      <th>Fouls Conceded</th>\n",
       "      <th>Offsides</th>\n",
       "      <th>Yellow Cards</th>\n",
       "      <th>Red Cards</th>\n",
       "    </tr>\n",
       "  </thead>\n",
       "  <tbody>\n",
       "    <tr>\n",
       "      <th>0</th>\n",
       "      <td>Croatia</td>\n",
       "      <td>4</td>\n",
       "      <td>13</td>\n",
       "      <td>12</td>\n",
       "      <td>51.9%</td>\n",
       "      <td>16.0%</td>\n",
       "      <td>32</td>\n",
       "      <td>0</td>\n",
       "      <td>0</td>\n",
       "      <td>0</td>\n",
       "      <td>...</td>\n",
       "      <td>0</td>\n",
       "      <td>10</td>\n",
       "      <td>3</td>\n",
       "      <td>13</td>\n",
       "      <td>81.3%</td>\n",
       "      <td>41</td>\n",
       "      <td>62</td>\n",
       "      <td>2</td>\n",
       "      <td>9</td>\n",
       "      <td>0</td>\n",
       "    </tr>\n",
       "    <tr>\n",
       "      <th>1</th>\n",
       "      <td>Czech Republic</td>\n",
       "      <td>4</td>\n",
       "      <td>13</td>\n",
       "      <td>18</td>\n",
       "      <td>41.9%</td>\n",
       "      <td>12.9%</td>\n",
       "      <td>39</td>\n",
       "      <td>0</td>\n",
       "      <td>0</td>\n",
       "      <td>0</td>\n",
       "      <td>...</td>\n",
       "      <td>1</td>\n",
       "      <td>10</td>\n",
       "      <td>6</td>\n",
       "      <td>9</td>\n",
       "      <td>60.1%</td>\n",
       "      <td>53</td>\n",
       "      <td>73</td>\n",
       "      <td>8</td>\n",
       "      <td>7</td>\n",
       "      <td>0</td>\n",
       "    </tr>\n",
       "    <tr>\n",
       "      <th>2</th>\n",
       "      <td>Denmark</td>\n",
       "      <td>4</td>\n",
       "      <td>10</td>\n",
       "      <td>10</td>\n",
       "      <td>50.0%</td>\n",
       "      <td>20.0%</td>\n",
       "      <td>27</td>\n",
       "      <td>1</td>\n",
       "      <td>0</td>\n",
       "      <td>0</td>\n",
       "      <td>...</td>\n",
       "      <td>1</td>\n",
       "      <td>10</td>\n",
       "      <td>5</td>\n",
       "      <td>10</td>\n",
       "      <td>66.7%</td>\n",
       "      <td>25</td>\n",
       "      <td>38</td>\n",
       "      <td>8</td>\n",
       "      <td>4</td>\n",
       "      <td>0</td>\n",
       "    </tr>\n",
       "    <tr>\n",
       "      <th>3</th>\n",
       "      <td>England</td>\n",
       "      <td>5</td>\n",
       "      <td>11</td>\n",
       "      <td>18</td>\n",
       "      <td>50.0%</td>\n",
       "      <td>17.2%</td>\n",
       "      <td>40</td>\n",
       "      <td>0</td>\n",
       "      <td>0</td>\n",
       "      <td>0</td>\n",
       "      <td>...</td>\n",
       "      <td>2</td>\n",
       "      <td>29</td>\n",
       "      <td>3</td>\n",
       "      <td>22</td>\n",
       "      <td>88.1%</td>\n",
       "      <td>43</td>\n",
       "      <td>45</td>\n",
       "      <td>6</td>\n",
       "      <td>5</td>\n",
       "      <td>0</td>\n",
       "    </tr>\n",
       "    <tr>\n",
       "      <th>4</th>\n",
       "      <td>France</td>\n",
       "      <td>3</td>\n",
       "      <td>22</td>\n",
       "      <td>24</td>\n",
       "      <td>37.9%</td>\n",
       "      <td>6.5%</td>\n",
       "      <td>65</td>\n",
       "      <td>1</td>\n",
       "      <td>0</td>\n",
       "      <td>0</td>\n",
       "      <td>...</td>\n",
       "      <td>1</td>\n",
       "      <td>7</td>\n",
       "      <td>5</td>\n",
       "      <td>6</td>\n",
       "      <td>54.6%</td>\n",
       "      <td>36</td>\n",
       "      <td>51</td>\n",
       "      <td>5</td>\n",
       "      <td>6</td>\n",
       "      <td>0</td>\n",
       "    </tr>\n",
       "    <tr>\n",
       "      <th>5</th>\n",
       "      <td>Germany</td>\n",
       "      <td>10</td>\n",
       "      <td>32</td>\n",
       "      <td>32</td>\n",
       "      <td>47.8%</td>\n",
       "      <td>15.6%</td>\n",
       "      <td>80</td>\n",
       "      <td>2</td>\n",
       "      <td>1</td>\n",
       "      <td>0</td>\n",
       "      <td>...</td>\n",
       "      <td>1</td>\n",
       "      <td>11</td>\n",
       "      <td>6</td>\n",
       "      <td>10</td>\n",
       "      <td>62.6%</td>\n",
       "      <td>63</td>\n",
       "      <td>49</td>\n",
       "      <td>12</td>\n",
       "      <td>4</td>\n",
       "      <td>0</td>\n",
       "    </tr>\n",
       "    <tr>\n",
       "      <th>6</th>\n",
       "      <td>Greece</td>\n",
       "      <td>5</td>\n",
       "      <td>8</td>\n",
       "      <td>18</td>\n",
       "      <td>30.7%</td>\n",
       "      <td>19.2%</td>\n",
       "      <td>32</td>\n",
       "      <td>1</td>\n",
       "      <td>1</td>\n",
       "      <td>1</td>\n",
       "      <td>...</td>\n",
       "      <td>1</td>\n",
       "      <td>23</td>\n",
       "      <td>7</td>\n",
       "      <td>13</td>\n",
       "      <td>65.1%</td>\n",
       "      <td>67</td>\n",
       "      <td>48</td>\n",
       "      <td>12</td>\n",
       "      <td>9</td>\n",
       "      <td>1</td>\n",
       "    </tr>\n",
       "    <tr>\n",
       "      <th>7</th>\n",
       "      <td>Italy</td>\n",
       "      <td>6</td>\n",
       "      <td>34</td>\n",
       "      <td>45</td>\n",
       "      <td>43.0%</td>\n",
       "      <td>7.5%</td>\n",
       "      <td>110</td>\n",
       "      <td>2</td>\n",
       "      <td>0</td>\n",
       "      <td>0</td>\n",
       "      <td>...</td>\n",
       "      <td>2</td>\n",
       "      <td>18</td>\n",
       "      <td>7</td>\n",
       "      <td>20</td>\n",
       "      <td>74.1%</td>\n",
       "      <td>101</td>\n",
       "      <td>89</td>\n",
       "      <td>16</td>\n",
       "      <td>16</td>\n",
       "      <td>0</td>\n",
       "    </tr>\n",
       "    <tr>\n",
       "      <th>8</th>\n",
       "      <td>Netherlands</td>\n",
       "      <td>2</td>\n",
       "      <td>12</td>\n",
       "      <td>36</td>\n",
       "      <td>25.0%</td>\n",
       "      <td>4.1%</td>\n",
       "      <td>60</td>\n",
       "      <td>2</td>\n",
       "      <td>0</td>\n",
       "      <td>0</td>\n",
       "      <td>...</td>\n",
       "      <td>0</td>\n",
       "      <td>9</td>\n",
       "      <td>5</td>\n",
       "      <td>12</td>\n",
       "      <td>70.6%</td>\n",
       "      <td>35</td>\n",
       "      <td>30</td>\n",
       "      <td>3</td>\n",
       "      <td>5</td>\n",
       "      <td>0</td>\n",
       "    </tr>\n",
       "    <tr>\n",
       "      <th>9</th>\n",
       "      <td>Poland</td>\n",
       "      <td>2</td>\n",
       "      <td>15</td>\n",
       "      <td>23</td>\n",
       "      <td>39.4%</td>\n",
       "      <td>5.2%</td>\n",
       "      <td>48</td>\n",
       "      <td>0</td>\n",
       "      <td>0</td>\n",
       "      <td>0</td>\n",
       "      <td>...</td>\n",
       "      <td>0</td>\n",
       "      <td>8</td>\n",
       "      <td>3</td>\n",
       "      <td>6</td>\n",
       "      <td>66.7%</td>\n",
       "      <td>48</td>\n",
       "      <td>56</td>\n",
       "      <td>3</td>\n",
       "      <td>7</td>\n",
       "      <td>1</td>\n",
       "    </tr>\n",
       "    <tr>\n",
       "      <th>10</th>\n",
       "      <td>Portugal</td>\n",
       "      <td>6</td>\n",
       "      <td>22</td>\n",
       "      <td>42</td>\n",
       "      <td>34.3%</td>\n",
       "      <td>9.3%</td>\n",
       "      <td>82</td>\n",
       "      <td>6</td>\n",
       "      <td>0</td>\n",
       "      <td>0</td>\n",
       "      <td>...</td>\n",
       "      <td>2</td>\n",
       "      <td>11</td>\n",
       "      <td>4</td>\n",
       "      <td>10</td>\n",
       "      <td>71.5%</td>\n",
       "      <td>73</td>\n",
       "      <td>90</td>\n",
       "      <td>10</td>\n",
       "      <td>12</td>\n",
       "      <td>0</td>\n",
       "    </tr>\n",
       "    <tr>\n",
       "      <th>11</th>\n",
       "      <td>Republic of Ireland</td>\n",
       "      <td>1</td>\n",
       "      <td>7</td>\n",
       "      <td>12</td>\n",
       "      <td>36.8%</td>\n",
       "      <td>5.2%</td>\n",
       "      <td>28</td>\n",
       "      <td>0</td>\n",
       "      <td>0</td>\n",
       "      <td>0</td>\n",
       "      <td>...</td>\n",
       "      <td>0</td>\n",
       "      <td>23</td>\n",
       "      <td>9</td>\n",
       "      <td>17</td>\n",
       "      <td>65.4%</td>\n",
       "      <td>43</td>\n",
       "      <td>51</td>\n",
       "      <td>11</td>\n",
       "      <td>6</td>\n",
       "      <td>1</td>\n",
       "    </tr>\n",
       "    <tr>\n",
       "      <th>12</th>\n",
       "      <td>Russia</td>\n",
       "      <td>5</td>\n",
       "      <td>9</td>\n",
       "      <td>31</td>\n",
       "      <td>22.5%</td>\n",
       "      <td>12.5%</td>\n",
       "      <td>59</td>\n",
       "      <td>2</td>\n",
       "      <td>0</td>\n",
       "      <td>0</td>\n",
       "      <td>...</td>\n",
       "      <td>0</td>\n",
       "      <td>8</td>\n",
       "      <td>3</td>\n",
       "      <td>10</td>\n",
       "      <td>77.0%</td>\n",
       "      <td>34</td>\n",
       "      <td>43</td>\n",
       "      <td>4</td>\n",
       "      <td>6</td>\n",
       "      <td>0</td>\n",
       "    </tr>\n",
       "    <tr>\n",
       "      <th>13</th>\n",
       "      <td>Spain</td>\n",
       "      <td>12</td>\n",
       "      <td>42</td>\n",
       "      <td>33</td>\n",
       "      <td>55.9%</td>\n",
       "      <td>16.0%</td>\n",
       "      <td>100</td>\n",
       "      <td>0</td>\n",
       "      <td>1</td>\n",
       "      <td>0</td>\n",
       "      <td>...</td>\n",
       "      <td>5</td>\n",
       "      <td>8</td>\n",
       "      <td>1</td>\n",
       "      <td>15</td>\n",
       "      <td>93.8%</td>\n",
       "      <td>102</td>\n",
       "      <td>83</td>\n",
       "      <td>19</td>\n",
       "      <td>11</td>\n",
       "      <td>0</td>\n",
       "    </tr>\n",
       "    <tr>\n",
       "      <th>14</th>\n",
       "      <td>Sweden</td>\n",
       "      <td>5</td>\n",
       "      <td>17</td>\n",
       "      <td>19</td>\n",
       "      <td>47.2%</td>\n",
       "      <td>13.8%</td>\n",
       "      <td>39</td>\n",
       "      <td>3</td>\n",
       "      <td>0</td>\n",
       "      <td>0</td>\n",
       "      <td>...</td>\n",
       "      <td>1</td>\n",
       "      <td>12</td>\n",
       "      <td>5</td>\n",
       "      <td>8</td>\n",
       "      <td>61.6%</td>\n",
       "      <td>35</td>\n",
       "      <td>51</td>\n",
       "      <td>7</td>\n",
       "      <td>7</td>\n",
       "      <td>0</td>\n",
       "    </tr>\n",
       "    <tr>\n",
       "      <th>15</th>\n",
       "      <td>Ukraine</td>\n",
       "      <td>2</td>\n",
       "      <td>7</td>\n",
       "      <td>26</td>\n",
       "      <td>21.2%</td>\n",
       "      <td>6.0%</td>\n",
       "      <td>38</td>\n",
       "      <td>0</td>\n",
       "      <td>0</td>\n",
       "      <td>0</td>\n",
       "      <td>...</td>\n",
       "      <td>0</td>\n",
       "      <td>4</td>\n",
       "      <td>4</td>\n",
       "      <td>13</td>\n",
       "      <td>76.5%</td>\n",
       "      <td>48</td>\n",
       "      <td>31</td>\n",
       "      <td>4</td>\n",
       "      <td>5</td>\n",
       "      <td>0</td>\n",
       "    </tr>\n",
       "  </tbody>\n",
       "</table>\n",
       "<p>16 rows × 32 columns</p>\n",
       "</div>"
      ],
      "text/plain": [
       "                   Team  Goals  Shots on target  Shots off target  \\\n",
       "0               Croatia      4               13                12   \n",
       "1        Czech Republic      4               13                18   \n",
       "2               Denmark      4               10                10   \n",
       "3               England      5               11                18   \n",
       "4                France      3               22                24   \n",
       "5               Germany     10               32                32   \n",
       "6                Greece      5                8                18   \n",
       "7                 Italy      6               34                45   \n",
       "8           Netherlands      2               12                36   \n",
       "9                Poland      2               15                23   \n",
       "10             Portugal      6               22                42   \n",
       "11  Republic of Ireland      1                7                12   \n",
       "12               Russia      5                9                31   \n",
       "13                Spain     12               42                33   \n",
       "14               Sweden      5               17                19   \n",
       "15              Ukraine      2                7                26   \n",
       "\n",
       "   Shooting Accuracy % Goals-to-shots  Total shots (inc. Blocked)  \\\n",
       "0              51.9%            16.0%                          32   \n",
       "1              41.9%            12.9%                          39   \n",
       "2              50.0%            20.0%                          27   \n",
       "3              50.0%            17.2%                          40   \n",
       "4              37.9%             6.5%                          65   \n",
       "5              47.8%            15.6%                          80   \n",
       "6              30.7%            19.2%                          32   \n",
       "7              43.0%             7.5%                         110   \n",
       "8              25.0%             4.1%                          60   \n",
       "9              39.4%             5.2%                          48   \n",
       "10             34.3%             9.3%                          82   \n",
       "11             36.8%             5.2%                          28   \n",
       "12             22.5%            12.5%                          59   \n",
       "13             55.9%            16.0%                         100   \n",
       "14             47.2%            13.8%                          39   \n",
       "15             21.2%             6.0%                          38   \n",
       "\n",
       "    Hit Woodwork  Penalty goals  Penalties not scored  ...  Clean Sheets  \\\n",
       "0              0              0                     0  ...             0   \n",
       "1              0              0                     0  ...             1   \n",
       "2              1              0                     0  ...             1   \n",
       "3              0              0                     0  ...             2   \n",
       "4              1              0                     0  ...             1   \n",
       "5              2              1                     0  ...             1   \n",
       "6              1              1                     1  ...             1   \n",
       "7              2              0                     0  ...             2   \n",
       "8              2              0                     0  ...             0   \n",
       "9              0              0                     0  ...             0   \n",
       "10             6              0                     0  ...             2   \n",
       "11             0              0                     0  ...             0   \n",
       "12             2              0                     0  ...             0   \n",
       "13             0              1                     0  ...             5   \n",
       "14             3              0                     0  ...             1   \n",
       "15             0              0                     0  ...             0   \n",
       "\n",
       "    Blocks  Goals conceded Saves made  Saves-to-shots ratio  Fouls Won  \\\n",
       "0       10               3         13                 81.3%         41   \n",
       "1       10               6          9                 60.1%         53   \n",
       "2       10               5         10                 66.7%         25   \n",
       "3       29               3         22                 88.1%         43   \n",
       "4        7               5          6                 54.6%         36   \n",
       "5       11               6         10                 62.6%         63   \n",
       "6       23               7         13                 65.1%         67   \n",
       "7       18               7         20                 74.1%        101   \n",
       "8        9               5         12                 70.6%         35   \n",
       "9        8               3          6                 66.7%         48   \n",
       "10      11               4         10                 71.5%         73   \n",
       "11      23               9         17                 65.4%         43   \n",
       "12       8               3         10                 77.0%         34   \n",
       "13       8               1         15                 93.8%        102   \n",
       "14      12               5          8                 61.6%         35   \n",
       "15       4               4         13                 76.5%         48   \n",
       "\n",
       "    Fouls Conceded  Offsides  Yellow Cards  Red Cards  \n",
       "0               62         2             9          0  \n",
       "1               73         8             7          0  \n",
       "2               38         8             4          0  \n",
       "3               45         6             5          0  \n",
       "4               51         5             6          0  \n",
       "5               49        12             4          0  \n",
       "6               48        12             9          1  \n",
       "7               89        16            16          0  \n",
       "8               30         3             5          0  \n",
       "9               56         3             7          1  \n",
       "10              90        10            12          0  \n",
       "11              51        11             6          1  \n",
       "12              43         4             6          0  \n",
       "13              83        19            11          0  \n",
       "14              51         7             7          0  \n",
       "15              31         4             5          0  \n",
       "\n",
       "[16 rows x 32 columns]"
      ]
     },
     "execution_count": 30,
     "metadata": {},
     "output_type": "execute_result"
    }
   ],
   "source": [
    "# All columns except last 3\n",
    "euro12.iloc[:, :-3]"
   ]
  },
  {
   "cell_type": "code",
   "execution_count": 31,
   "id": "45ea7bc8",
   "metadata": {},
   "outputs": [
    {
     "data": {
      "text/html": [
       "<div>\n",
       "<style scoped>\n",
       "    .dataframe tbody tr th:only-of-type {\n",
       "        vertical-align: middle;\n",
       "    }\n",
       "\n",
       "    .dataframe tbody tr th {\n",
       "        vertical-align: top;\n",
       "    }\n",
       "\n",
       "    .dataframe thead th {\n",
       "        text-align: right;\n",
       "    }\n",
       "</style>\n",
       "<table border=\"1\" class=\"dataframe\">\n",
       "  <thead>\n",
       "    <tr style=\"text-align: right;\">\n",
       "      <th></th>\n",
       "      <th>Team</th>\n",
       "      <th>Shooting Accuracy</th>\n",
       "    </tr>\n",
       "  </thead>\n",
       "  <tbody>\n",
       "    <tr>\n",
       "      <th>3</th>\n",
       "      <td>England</td>\n",
       "      <td>50.0%</td>\n",
       "    </tr>\n",
       "    <tr>\n",
       "      <th>7</th>\n",
       "      <td>Italy</td>\n",
       "      <td>43.0%</td>\n",
       "    </tr>\n",
       "    <tr>\n",
       "      <th>12</th>\n",
       "      <td>Russia</td>\n",
       "      <td>22.5%</td>\n",
       "    </tr>\n",
       "  </tbody>\n",
       "</table>\n",
       "</div>"
      ],
      "text/plain": [
       "       Team Shooting Accuracy\n",
       "3   England             50.0%\n",
       "7     Italy             43.0%\n",
       "12   Russia             22.5%"
      ]
     },
     "execution_count": 31,
     "metadata": {},
     "output_type": "execute_result"
    }
   ],
   "source": [
    "# Filter data for England, Italy, and Russia\n",
    "euro12_filtered = euro12[euro12['Team'].isin(['England', 'Italy', 'Russia'])]\n",
    "\n",
    "# Select only the Team and Shooting Accuracy columns\n",
    "euro12_filtered[['Team', 'Shooting Accuracy']]"
   ]
  },
  {
   "cell_type": "markdown",
   "id": "3649daed",
   "metadata": {},
   "source": [
    "\n",
    "\n"
   ]
  },
  {
   "cell_type": "markdown",
   "id": "ce07b44d",
   "metadata": {},
   "source": [
    "## Question 3"
   ]
  },
  {
   "cell_type": "code",
   "execution_count": 32,
   "id": "5b04e8a6",
   "metadata": {},
   "outputs": [
    {
     "name": "stdout",
     "output_type": "stream",
     "text": [
      "Series 1:\n",
      "0    4\n",
      "1    2\n",
      "2    3\n",
      "3    4\n",
      "4    3\n",
      "dtype: int32\n",
      "\n",
      "Series 2:\n",
      "0    2\n",
      "1    1\n",
      "2    1\n",
      "3    1\n",
      "4    1\n",
      "dtype: int32\n",
      "\n",
      "Series 3:\n",
      "0    24289\n",
      "1    23104\n",
      "2    20432\n",
      "3    28120\n",
      "4    13091\n",
      "dtype: int32\n"
     ]
    }
   ],
   "source": [
    "import pandas as pd\n",
    "import numpy as np\n",
    "\n",
    "# Create Series of random numbers\n",
    "series1 = pd.Series(np.random.randint(1, 5, size=100))\n",
    "series2 = pd.Series(np.random.randint(1, 4, size=100))\n",
    "series3 = pd.Series(np.random.randint(10000, 30001, size=100))\n",
    "\n",
    "# Print the first few elements of each series\n",
    "print(\"Series 1:\")\n",
    "print(series1.head())\n",
    "print(\"\\nSeries 2:\")\n",
    "print(series2.head())\n",
    "print(\"\\nSeries 3:\")\n",
    "print(series3.head())"
   ]
  },
  {
   "cell_type": "code",
   "execution_count": 36,
   "id": "bfd0467a",
   "metadata": {},
   "outputs": [
    {
     "name": "stdout",
     "output_type": "stream",
     "text": [
      "    bedrs  bathrs  price_sqr_meter\n",
      "0       1       3            22183\n",
      "1       2       1            11466\n",
      "2       1       2            10942\n",
      "3       1       1            12344\n",
      "4       1       3            18665\n",
      "..    ...     ...              ...\n",
      "95      2       1            20131\n",
      "96      4       2            20648\n",
      "97      4       3            20904\n",
      "98      1       2            28631\n",
      "99      3       3            28161\n",
      "\n",
      "[100 rows x 3 columns]\n"
     ]
    }
   ],
   "source": [
    "# create the series\n",
    "s1 = pd.Series(np.random.randint(1, 5, size=100))\n",
    "s2 = pd.Series(np.random.randint(1, 4, size=100))\n",
    "s3 = pd.Series(np.random.randint(10000, 30001, size=100))\n",
    "\n",
    "# create the DataFrame by joining the series\n",
    "df = pd.concat([s1, s2, s3], axis=1)\n",
    "\n",
    "# rename the columns\n",
    "df.columns = [\"bedrs\", \"bathrs\", \"price_sqr_meter\"]\n",
    "\n",
    "# display the DataFrame\n",
    "print(df)"
   ]
  },
  {
   "cell_type": "code",
   "execution_count": 40,
   "id": "1558c5f3",
   "metadata": {},
   "outputs": [
    {
     "name": "stdout",
     "output_type": "stream",
     "text": [
      "0          1\n",
      "1          2\n",
      "2          1\n",
      "3          1\n",
      "4          1\n",
      "       ...  \n",
      "295    20131\n",
      "296    20648\n",
      "297    20904\n",
      "298    28631\n",
      "299    28161\n",
      "Length: 300, dtype: int32\n"
     ]
    }
   ],
   "source": [
    "# concatenate the 3 Series into one column DataFrame\n",
    "bigcolumn = pd.concat([s1, s2, s3], axis=0, ignore_index=True)\n",
    "\n",
    "# print the resulting DataFrame\n",
    "print(bigcolumn)"
   ]
  },
  {
   "cell_type": "markdown",
   "id": "f399357e",
   "metadata": {},
   "source": [
    "\n"
   ]
  },
  {
   "cell_type": "markdown",
   "id": "7ab2943c",
   "metadata": {},
   "source": [
    "## Question 4"
   ]
  },
  {
   "cell_type": "code",
   "execution_count": 90,
   "id": "23af5c8c",
   "metadata": {},
   "outputs": [
    {
     "name": "stdout",
     "output_type": "stream",
     "text": [
      "   Yr  Mo  Dy    RPT    VAL    ROS    KIL    SHA   BIR    DUB    CLA    MUL  \\\n",
      "0  61   1   1  15.04  14.96  13.17   9.29    NaN  9.87  13.67  10.25  10.83   \n",
      "1  61   1   2  14.71    NaN  10.83   6.50  12.62  7.67  11.50  10.04   9.79   \n",
      "2  61   1   3  18.50  16.88  12.33  10.13  11.17  6.17  11.25    NaN   8.50   \n",
      "3  61   1   4  10.58   6.63  11.75   4.58   4.54  2.88   8.63   1.79   5.83   \n",
      "4  61   1   5  13.33  13.25  11.42   6.17  10.71  8.21  11.92   6.54  10.92   \n",
      "\n",
      "     CLO    BEL    MAL  \n",
      "0  12.58  18.50  15.04  \n",
      "1   9.67  17.54  13.83  \n",
      "2   7.67  12.75  12.71  \n",
      "3   5.88   5.46  10.88  \n",
      "4  10.34  12.92  11.83  \n"
     ]
    }
   ],
   "source": [
    "# Step 1: Import necessary libraries\n",
    "import pandas as pd\n",
    "import numpy as np\n",
    "\n",
    "# Step 2: Import dataset\n",
    "data = pd.read_csv('wind.txt', sep='\\s+')\n",
    "\n",
    "# Print first 5 rows of resulting dataframe\n",
    "print(data.head())"
   ]
  },
  {
   "cell_type": "code",
   "execution_count": 91,
   "id": "4565d748",
   "metadata": {},
   "outputs": [
    {
     "name": "stdout",
     "output_type": "stream",
     "text": [
      "            Yr  Mo  Dy    RPT    VAL    ROS    KIL    SHA   BIR    DUB    CLA  \\\n",
      "date                                                                            \n",
      "1961-01-01  61   1   1  15.04  14.96  13.17   9.29    NaN  9.87  13.67  10.25   \n",
      "1961-01-02  61   1   2  14.71    NaN  10.83   6.50  12.62  7.67  11.50  10.04   \n",
      "1961-01-03  61   1   3  18.50  16.88  12.33  10.13  11.17  6.17  11.25    NaN   \n",
      "1961-01-04  61   1   4  10.58   6.63  11.75   4.58   4.54  2.88   8.63   1.79   \n",
      "1961-01-05  61   1   5  13.33  13.25  11.42   6.17  10.71  8.21  11.92   6.54   \n",
      "\n",
      "              MUL    CLO    BEL    MAL  \n",
      "date                                    \n",
      "1961-01-01  10.83  12.58  18.50  15.04  \n",
      "1961-01-02   9.79   9.67  17.54  13.83  \n",
      "1961-01-03   8.50   7.67  12.75  12.71  \n",
      "1961-01-04   5.83   5.88   5.46  10.88  \n",
      "1961-01-05  10.92  10.34  12.92  11.83  \n"
     ]
    }
   ],
   "source": [
    "# Create a datetime index from the first three columns\n",
    "data['date'] = pd.to_datetime((data['Yr']*10000)+19000000 + data['Mo']*100 + data['Dy'], format='%Y%m%d')\n",
    "data = data.set_index('date')\n",
    "\n",
    "print(data.head())"
   ]
  },
  {
   "cell_type": "code",
   "execution_count": 92,
   "id": "190f894e",
   "metadata": {},
   "outputs": [
    {
     "name": "stdout",
     "output_type": "stream",
     "text": [
      "Number of missing values for each location:\n",
      "Yr     0\n",
      "Mo     0\n",
      "Dy     0\n",
      "RPT    6\n",
      "VAL    3\n",
      "ROS    2\n",
      "KIL    5\n",
      "SHA    2\n",
      "BIR    0\n",
      "DUB    3\n",
      "CLA    2\n",
      "MUL    3\n",
      "CLO    1\n",
      "BEL    0\n",
      "MAL    4\n",
      "dtype: int64\n"
     ]
    }
   ],
   "source": [
    "# Count the number of missing values for each location\n",
    "missing = data.isnull().sum(axis=0)\n",
    "\n",
    "# Print the result\n",
    "print(\"Number of missing values for each location:\")\n",
    "print(missing)"
   ]
  },
  {
   "cell_type": "code",
   "execution_count": 93,
   "id": "5b59083c",
   "metadata": {},
   "outputs": [
    {
     "name": "stdout",
     "output_type": "stream",
     "text": [
      "Total number of non-missing values: 98579\n"
     ]
    }
   ],
   "source": [
    "# Compute the total number of non-missing values\n",
    "total_non_missing = data.count().sum()\n",
    "\n",
    "# Print the result\n",
    "print(\"Total number of non-missing values: {}\".format(total_non_missing))"
   ]
  },
  {
   "cell_type": "code",
   "execution_count": 94,
   "id": "841ac955",
   "metadata": {},
   "outputs": [
    {
     "name": "stdout",
     "output_type": "stream",
     "text": [
      "Mean windspeed over all locations and times: 14.30\n"
     ]
    }
   ],
   "source": [
    "# Calculate the mean windspeed for each location\n",
    "mean_windspeed = data.mean()\n",
    "\n",
    "# Calculate the mean windspeed over all locations and times\n",
    "mean_windspeed_all = mean_windspeed.mean()\n",
    "\n",
    "# Print the result\n",
    "print(\"Mean windspeed over all locations and times: {:.2f}\".format(mean_windspeed_all))"
   ]
  },
  {
   "cell_type": "code",
   "execution_count": 98,
   "id": "b932f825",
   "metadata": {},
   "outputs": [
    {
     "name": "stdout",
     "output_type": "stream",
     "text": [
      "             Yr         Mo         Dy        RPT        VAL        ROS  \\\n",
      "min   61.000000   1.000000   1.000000   0.670000   0.210000   1.500000   \n",
      "max   78.000000  12.000000  31.000000  35.800000  33.370000  33.840000   \n",
      "mean  69.500304   6.523274  15.728628  12.362987  10.644314  11.660526   \n",
      "std    5.188131   3.448871   8.800335   5.618413   5.267356   5.008450   \n",
      "\n",
      "            KIL        SHA        BIR        DUB        CLA        MUL  \\\n",
      "min    0.000000   0.130000   0.000000   0.000000   0.000000   0.000000   \n",
      "max   28.460000  37.540000  26.160000  30.370000  31.080000  25.880000   \n",
      "mean   6.306468  10.455834   7.092254   9.797343   8.495053   8.493590   \n",
      "std    3.605811   4.936125   3.968683   4.977555   4.499449   4.166872   \n",
      "\n",
      "            CLO        BEL        MAL  \n",
      "min    0.040000   0.130000   0.670000  \n",
      "max   28.210000  42.380000  42.540000  \n",
      "mean   8.707332  13.121007  15.599079  \n",
      "std    4.503954   5.835037   6.699794  \n"
     ]
    }
   ],
   "source": [
    "# Calculate the statistics for each location\n",
    "loc_stats = data.describe()\n",
    "\n",
    "# Select only the min, max, mean, and std columns\n",
    "loc_stats = loc_stats.loc[['min', 'max', 'mean', 'std']]\n",
    "\n",
    "# Print the result\n",
    "print(loc_stats.head())"
   ]
  },
  {
   "cell_type": "code",
   "execution_count": 99,
   "id": "1e091aaf",
   "metadata": {},
   "outputs": [
    {
     "name": "stdout",
     "output_type": "stream",
     "text": [
      "              Yr        Mo         Dy        RPT        VAL        ROS  \\\n",
      "date                                                                     \n",
      "1961-01-01  61.0  6.526027  15.720548  12.299583  10.351796  11.362369   \n",
      "1962-01-01  62.0  6.526027  15.720548  12.246923  10.110438  11.732712   \n",
      "1963-01-01  63.0  6.526027  15.720548  12.813452  10.836986  12.541151   \n",
      "1964-01-01  64.0  6.513661  15.756831  12.363661  10.920164  12.104372   \n",
      "1965-01-01  65.0  6.526027  15.720548  12.451370  11.075534  11.848767   \n",
      "\n",
      "                 KIL        SHA       BIR        DUB        CLA       MUL  \\\n",
      "date                                                                        \n",
      "1961-01-01  6.958227  10.881763  7.729726   9.733923   8.858788  8.647652   \n",
      "1962-01-01  6.960440  10.657918  7.393068  11.020712   8.793753  8.316822   \n",
      "1963-01-01  7.330055  11.724110  8.434712  11.075699  10.336548  8.903589   \n",
      "1964-01-01  6.787787  11.454481  7.570874  10.259153   9.467350  7.789016   \n",
      "1965-01-01  6.858466  11.024795  7.478110  10.618712   8.879918  7.907425   \n",
      "\n",
      "                  CLO        BEL        MAL  \n",
      "date                                         \n",
      "1961-01-01   9.835577  13.502795  13.680773  \n",
      "1962-01-01   9.676247  12.930685  14.323956  \n",
      "1963-01-01  10.224438  13.638877  14.999014  \n",
      "1964-01-01  10.207951  13.740546  14.910301  \n",
      "1965-01-01   9.918082  12.964247  15.591644  \n"
     ]
    }
   ],
   "source": [
    "# Resample the data to a yearly frequency\n",
    "yearly_data = data.resample('AS').mean()\n",
    "\n",
    "# Print the result\n",
    "print(yearly_data.head())"
   ]
  },
  {
   "cell_type": "code",
   "execution_count": 100,
   "id": "5df57234",
   "metadata": {},
   "outputs": [
    {
     "name": "stdout",
     "output_type": "stream",
     "text": [
      "              Yr   Mo    Dy        RPT        VAL        ROS        KIL  \\\n",
      "date                                                                      \n",
      "1961-01-01  61.0  1.0   1.0  15.040000  14.960000  13.170000   9.290000   \n",
      "1961-01-08  61.0  1.0   5.0  13.541429  11.486667  10.487143   6.417143   \n",
      "1961-01-15  61.0  1.0  12.0  12.468571   8.967143  11.958571   4.630000   \n",
      "1961-01-22  61.0  1.0  19.0  13.204286   9.862857  12.982857   6.328571   \n",
      "1961-01-29  61.0  1.0  26.0  19.880000  16.141429  18.225714  12.720000   \n",
      "\n",
      "                  SHA        BIR        DUB        CLA        MUL        CLO  \\\n",
      "date                                                                           \n",
      "1961-01-01        NaN   9.870000  13.670000  10.250000  10.830000  12.580000   \n",
      "1961-01-08   9.474286   6.435714  11.061429   6.616667   8.434286   8.497143   \n",
      "1961-01-15   7.351429   5.072857   7.535714   6.820000   5.712857   7.571429   \n",
      "1961-01-22   8.966667   7.417143   9.257143   7.875714   7.145714   8.124286   \n",
      "1961-01-29  17.432857  14.828571  15.528571  15.160000  14.480000  15.640000   \n",
      "\n",
      "                  BEL        MAL  \n",
      "date                              \n",
      "1961-01-01  18.500000  15.040000  \n",
      "1961-01-08  12.481429  13.238571  \n",
      "1961-01-15  11.125714  11.024286  \n",
      "1961-01-22   9.821429  11.434286  \n",
      "1961-01-29  20.930000  22.530000  \n"
     ]
    }
   ],
   "source": [
    "# Resample the data to a weekly frequency\n",
    "weekly_data = data.resample('W').mean()\n",
    "\n",
    "# Print the result\n",
    "print(weekly_data.head())"
   ]
  },
  {
   "cell_type": "code",
   "execution_count": 101,
   "id": "ac4cd432",
   "metadata": {},
   "outputs": [
    {
     "name": "stdout",
     "output_type": "stream",
     "text": [
      "            Yr                 Mo                           Dy      ...  \\\n",
      "           min max  mean  std min max       mean       std min max  ...   \n",
      "date                                                                ...   \n",
      "1961-01-08  61  61  61.0  0.0   1   1   1.000000  0.000000   8  14  ...   \n",
      "1961-01-15  61  61  61.0  0.0   1   1   1.000000  0.000000  15  21  ...   \n",
      "1961-01-22  61  61  61.0  0.0   1   1   1.000000  0.000000  22  28  ...   \n",
      "1961-01-29  61  61  61.0  0.0   1   2   1.571429  0.534522   1  31  ...   \n",
      "1961-02-05  61  61  61.0  0.0   2   2   2.000000  0.000000   5  11  ...   \n",
      "1961-02-12  61  61  61.0  0.0   2   2   2.000000  0.000000  12  18  ...   \n",
      "1961-02-19  61  61  61.0  0.0   2   2   2.000000  0.000000  19  25  ...   \n",
      "1961-02-26  61  61  61.0  0.0   2   3   2.571429  0.534522   1  28  ...   \n",
      "1961-03-05  61  61  61.0  0.0   3   3   3.000000  0.000000   5  11  ...   \n",
      "1961-03-12  61  61  61.0  0.0   3   3   3.000000  0.000000  12  18  ...   \n",
      "1961-03-19  61  61  61.0  0.0   3   3   3.000000  0.000000  19  25  ...   \n",
      "1961-03-26  61  61  61.0  0.0   3   4   3.142857  0.377964   1  31  ...   \n",
      "1961-04-02  61  61  61.0  0.0   4   4   4.000000  0.000000   2   8  ...   \n",
      "1961-04-09  61  61  61.0  0.0   4   4   4.000000  0.000000   9  15  ...   \n",
      "1961-04-16  61  61  61.0  0.0   4   4   4.000000  0.000000  16  22  ...   \n",
      "1961-04-23  61  61  61.0  0.0   4   4   4.000000  0.000000  23  29  ...   \n",
      "1961-04-30  61  61  61.0  0.0   4   5   4.857143  0.377964   1  30  ...   \n",
      "1961-05-07  61  61  61.0  0.0   5   5   5.000000  0.000000   7  13  ...   \n",
      "1961-05-14  61  61  61.0  0.0   5   5   5.000000  0.000000  14  20  ...   \n",
      "1961-05-21  61  61  61.0  0.0   5   5   5.000000  0.000000  21  27  ...   \n",
      "1961-05-28  61  61  61.0  0.0   5   6   5.428571  0.534522   1  31  ...   \n",
      "1961-06-04  61  61  61.0  0.0   6   6   6.000000  0.000000   4  10  ...   \n",
      "1961-06-11  61  61  61.0  0.0   6   6   6.000000  0.000000  11  17  ...   \n",
      "1961-06-18  61  61  61.0  0.0   6   6   6.000000  0.000000  18  24  ...   \n",
      "1961-06-25  61  61  61.0  0.0   6   7   6.142857  0.377964   1  30  ...   \n",
      "1961-07-02  61  61  61.0  0.0   7   7   7.000000  0.000000   2   8  ...   \n",
      "1961-07-09  61  61  61.0  0.0   7   7   7.000000  0.000000   9  15  ...   \n",
      "1961-07-16  61  61  61.0  0.0   7   7   7.000000  0.000000  16  22  ...   \n",
      "1961-07-23  61  61  61.0  0.0   7   7   7.000000  0.000000  23  29  ...   \n",
      "1961-07-30  61  61  61.0  0.0   7   8   7.714286  0.487950   1  31  ...   \n",
      "1961-08-06  61  61  61.0  0.0   8   8   8.000000  0.000000   6  12  ...   \n",
      "1961-08-13  61  61  61.0  0.0   8   8   8.000000  0.000000  13  19  ...   \n",
      "1961-08-20  61  61  61.0  0.0   8   8   8.000000  0.000000  20  26  ...   \n",
      "1961-08-27  61  61  61.0  0.0   8   9   8.285714  0.487950   1  31  ...   \n",
      "1961-09-03  61  61  61.0  0.0   9   9   9.000000  0.000000   3   9  ...   \n",
      "1961-09-10  61  61  61.0  0.0   9   9   9.000000  0.000000  10  16  ...   \n",
      "1961-09-17  61  61  61.0  0.0   9   9   9.000000  0.000000  17  23  ...   \n",
      "1961-09-24  61  61  61.0  0.0   9   9   9.000000  0.000000  24  30  ...   \n",
      "1961-10-01  61  61  61.0  0.0  10  10  10.000000  0.000000   1   7  ...   \n",
      "1961-10-08  61  61  61.0  0.0  10  10  10.000000  0.000000   8  14  ...   \n",
      "1961-10-15  61  61  61.0  0.0  10  10  10.000000  0.000000  15  21  ...   \n",
      "1961-10-22  61  61  61.0  0.0  10  10  10.000000  0.000000  22  28  ...   \n",
      "1961-10-29  61  61  61.0  0.0  10  11  10.571429  0.534522   1  31  ...   \n",
      "1961-11-05  61  61  61.0  0.0  11  11  11.000000  0.000000   5  11  ...   \n",
      "1961-11-12  61  61  61.0  0.0  11  11  11.000000  0.000000  12  18  ...   \n",
      "1961-11-19  61  61  61.0  0.0  11  11  11.000000  0.000000  19  25  ...   \n",
      "1961-11-26  61  61  61.0  0.0  11  12  11.285714  0.487950   1  30  ...   \n",
      "1961-12-03  61  61  61.0  0.0  12  12  12.000000  0.000000   3   9  ...   \n",
      "1961-12-10  61  61  61.0  0.0  12  12  12.000000  0.000000  10  16  ...   \n",
      "1961-12-17  61  61  61.0  0.0  12  12  12.000000  0.000000  17  23  ...   \n",
      "1961-12-24  61  61  61.0  0.0  12  12  12.000000  0.000000  24  30  ...   \n",
      "\n",
      "                  CLO              BEL                                MAL  \\\n",
      "                 mean       std    min    max       mean       std    min   \n",
      "date                                                                        \n",
      "1961-01-08   8.261429  4.109556   5.25  20.71  12.422857  5.634926   5.17   \n",
      "1961-01-15   7.857143  4.875950   6.50  15.92   9.344286  3.683372   6.75   \n",
      "1961-01-22  13.861429  4.248037  10.88  26.08  18.525714  5.438749   9.92   \n",
      "1961-01-29  10.434286  4.801097   9.17  27.71  15.210000  6.528088   7.17   \n",
      "1961-02-05  14.227143  1.810771  15.21  26.38  20.964286  3.813834  14.67   \n",
      "1961-02-12  13.678571  2.564563  14.09  28.62  20.564286  5.057552  10.96   \n",
      "1961-02-19  11.820000  3.805544   9.59  29.63  17.275714  6.878754   6.67   \n",
      "1961-02-26  13.685714  3.151152  12.46  23.45  19.450000  3.655644   8.83   \n",
      "1961-03-05   9.750000  2.838967  10.21  22.71  15.427143  4.367035   5.54   \n",
      "1961-03-12  12.542857  3.267271  19.38  22.79  20.665714  1.288356  11.42   \n",
      "1961-03-19  10.838571  2.395325   8.25  21.34  13.454286  4.383046  11.34   \n",
      "1961-03-26  10.614286  3.303109   7.21  18.63  14.137143  4.035343   7.17   \n",
      "1961-04-02   6.738571  1.844654   7.62  17.16  11.795714  3.106535   7.21   \n",
      "1961-04-09   7.041429  2.534189   5.75  16.17   9.120000  3.388726   5.66   \n",
      "1961-04-16   8.670000  3.798561   6.75  19.21  13.882857  4.603650   4.96   \n",
      "1961-04-23   6.750000  3.315569   5.13  13.04   9.522857  2.796204   2.67   \n",
      "1961-04-30  10.198571  3.524398   4.79  28.08  15.488571  7.078817   3.83   \n",
      "1961-05-07   8.710000  6.269971   6.54  26.63  12.637143  7.329701   3.88   \n",
      "1961-05-14   7.894286  2.008282   6.63  12.00   9.677143  2.015537   3.33   \n",
      "1961-05-21   7.410000  2.727380   6.13  14.33  10.370000  2.976827   8.00   \n",
      "1961-05-28   8.584286  2.562660   8.71  13.88  11.554286  1.590900   8.38   \n",
      "1961-06-04   8.842857  1.653589   5.83  17.00  11.810000  4.091703   8.33   \n",
      "1961-06-11   8.547143  3.854931   5.37  25.25  13.582857  7.345735   5.96   \n",
      "1961-06-18  11.191429  2.233782  11.00  19.08  14.810000  2.811607  13.75   \n",
      "1961-06-25  10.892857  1.669678   6.96  21.87  15.488571  5.617981   8.71   \n",
      "1961-07-02  10.678571  3.553282   7.08  20.41  12.190000  4.569500   8.50   \n",
      "1961-07-09   9.574286  3.295860   5.04  20.25  12.948571  5.361326   5.96   \n",
      "1961-07-16   7.165714  2.314281   6.17  12.21   8.667143  2.123242   6.04   \n",
      "1961-07-23   8.857143  4.832783   4.21  22.17  11.918571  6.464050   5.41   \n",
      "1961-07-30   8.981429  2.892614   6.17  18.54  11.988571  4.662022   9.08   \n",
      "1961-08-06   6.915000  1.689044   5.88  14.29  10.065714  2.767718   5.88   \n",
      "1961-08-13  12.120000  2.825609   9.59  21.92  14.452857  3.956218  13.04   \n",
      "1961-08-20  11.768571  3.568101   5.75  21.96  15.381429  5.989086   8.29   \n",
      "1961-08-27  10.067143  4.745667   4.79  24.71  16.034286  7.762471   5.41   \n",
      "1961-09-03   7.708571  3.641179   5.41  15.83   9.925714  4.391115   3.37   \n",
      "1961-09-10  13.732857  5.723372  12.21  23.91  19.628571  4.880527   6.96   \n",
      "1961-09-17   7.465714  2.734312   4.54  20.96  11.340000  5.353139   5.25   \n",
      "1961-09-24  11.947143  3.703839   7.79  21.37  16.197143  5.102917   9.42   \n",
      "1961-10-01   6.674286  3.849060   4.79  11.79   7.947143  3.177303   4.04   \n",
      "1961-10-08   9.727143  3.702624   8.54  20.46  14.814286  4.306978  10.75   \n",
      "1961-10-15  15.745714  6.303898  10.88  24.71  17.191429  5.707193  13.46   \n",
      "1961-10-22  14.347143  5.462950   8.50  27.29  16.795714  6.406910  11.96   \n",
      "1961-10-29  10.798571  3.486849   8.87  20.17  15.011429  4.802424   9.83   \n",
      "1961-11-05   7.154286  3.852410   6.13  18.05  10.215714  4.209778   5.71   \n",
      "1961-11-12   6.351429  4.470628   0.71  11.00   6.084286  3.919353   2.00   \n",
      "1961-11-19   9.434286  2.937027   6.50  20.46  11.624286  5.459496   6.13   \n",
      "1961-11-26   8.328571  3.310113   5.50  19.04  11.797143  5.395463   4.25   \n",
      "1961-12-03  10.385714  4.786003   8.25  21.79  14.225714  4.975232   7.58   \n",
      "1961-12-10  12.600000  3.888809   7.38  22.83  17.255714  5.170406   6.50   \n",
      "1961-12-17   6.668571  4.346667   5.29  17.67   8.612857  4.770230   2.62   \n",
      "1961-12-24   8.855714  3.350959   3.75  14.92  10.680000  3.688324   6.63   \n",
      "\n",
      "                                        \n",
      "              max       mean       std  \n",
      "date                                    \n",
      "1961-01-08  16.92  12.411429  4.653269  \n",
      "1961-01-15  17.96  10.981429  4.581468  \n",
      "1961-01-22  27.63  20.607143  6.089455  \n",
      "1961-01-29  23.38  13.180000  6.130095  \n",
      "1961-02-05  21.84  18.817143  2.412051  \n",
      "1961-02-12  22.58  16.084286  4.368954  \n",
      "1961-02-19  21.21  13.847143  5.404389  \n",
      "1961-02-26  23.87  15.596667  5.055269  \n",
      "1961-03-05  18.16  13.200000  4.538227  \n",
      "1961-03-12  22.95  17.827143  4.294243  \n",
      "1961-03-19  21.54  16.540000  3.905820  \n",
      "1961-03-26  22.50  15.257143  5.044303  \n",
      "1961-04-02  13.13  11.037143  2.106598  \n",
      "1961-04-09  15.34   9.428571  3.730895  \n",
      "1961-04-16  20.46  12.398571  5.936883  \n",
      "1961-04-23  17.50   8.911429  5.166648  \n",
      "1961-04-30  23.13  12.024286  5.811574  \n",
      "1961-05-07  26.58  13.704286  9.182352  \n",
      "1961-05-14  14.96   9.611429  4.314987  \n",
      "1961-05-21  17.04  11.977143  3.593266  \n",
      "1961-05-28  17.96  13.162857  3.202045  \n",
      "1961-06-04  19.83  13.030000  4.131243  \n",
      "1961-06-11  20.88  12.347143  5.354194  \n",
      "1961-06-18  24.71  18.678571  3.996267  \n",
      "1961-06-25  16.79  13.355000  3.411931  \n",
      "1961-07-02  21.29  15.344286  4.561903  \n",
      "1961-07-09  21.96  12.578571  4.977564  \n",
      "1961-07-16  12.62   9.445714  2.180939  \n",
      "1961-07-23  25.37  13.201429  7.238933  \n",
      "1961-07-30  20.25  13.551429  4.640781  \n",
      "1961-08-06  13.21   9.501429  2.580991  \n",
      "1961-08-13  24.30  16.465000  3.978410  \n",
      "1961-08-20  22.29  15.844286  4.601217  \n",
      "1961-08-27  22.54  12.951429  6.947288  \n",
      "1961-09-03  20.25  11.057143  6.031936  \n",
      "1961-09-10  33.09  17.585714  7.815924  \n",
      "1961-09-17  16.75  10.861429  4.050446  \n",
      "1961-09-24  17.16  14.107143  3.084903  \n",
      "1961-10-01  19.62   9.665714  5.606460  \n",
      "1961-10-08  21.04  15.015714  3.958964  \n",
      "1961-10-15  33.45  23.827143  7.279615  \n",
      "1961-10-22  30.88  19.380000  7.530845  \n",
      "1961-10-29  23.58  17.927143  5.261723  \n",
      "1961-11-05  18.71  11.311429  4.472574  \n",
      "1961-11-12  15.54   7.081429  5.313032  \n",
      "1961-11-19  22.58  13.001429  6.093098  \n",
      "1961-11-26  21.29  13.280000  6.573954  \n",
      "1961-12-03  29.33  16.092857  7.375967  \n",
      "1961-12-10  21.12  15.821429  4.611137  \n",
      "1961-12-17  16.62   7.754286  4.986475  \n",
      "1961-12-24  15.21  12.178571  3.051991  \n",
      "\n",
      "[51 rows x 60 columns]\n"
     ]
    }
   ],
   "source": [
    "# Resample the data to a weekly frequency\n",
    "weekly_data = data.resample('W', label='left', closed='left').agg(['min', 'max', 'mean', 'std'])\n",
    "\n",
    "# Slice the resulting DataFrame to get the first 52 weeks\n",
    "first_52_weeks = weekly_data.loc['1961-01-02':'1961-12-25']\n",
    "\n",
    "# Print the result\n",
    "print(first_52_weeks)"
   ]
  },
  {
   "cell_type": "markdown",
   "id": "d3e6368f",
   "metadata": {},
   "source": [
    "\n",
    "\n"
   ]
  },
  {
   "cell_type": "markdown",
   "id": "e8db18ca",
   "metadata": {},
   "source": [
    "## Question 5"
   ]
  },
  {
   "cell_type": "code",
   "execution_count": 110,
   "id": "801d8786",
   "metadata": {},
   "outputs": [
    {
     "name": "stdout",
     "output_type": "stream",
     "text": [
      "   order_id  quantity                              item_name  \\\n",
      "0         1         1           Chips and Fresh Tomato Salsa   \n",
      "1         1         1                                   Izze   \n",
      "2         1         1                       Nantucket Nectar   \n",
      "3         1         1  Chips and Tomatillo-Green Chili Salsa   \n",
      "4         2         2                           Chicken Bowl   \n",
      "5         3         1                           Chicken Bowl   \n",
      "6         3         1                          Side of Chips   \n",
      "7         4         1                          Steak Burrito   \n",
      "8         4         1                       Steak Soft Tacos   \n",
      "9         5         1                          Steak Burrito   \n",
      "\n",
      "                                  choice_description item_price  \n",
      "0                                                NaN     $2.39   \n",
      "1                                       [Clementine]     $3.39   \n",
      "2                                            [Apple]     $3.39   \n",
      "3                                                NaN     $2.39   \n",
      "4  [Tomatillo-Red Chili Salsa (Hot), [Black Beans...    $16.98   \n",
      "5  [Fresh Tomato Salsa (Mild), [Rice, Cheese, Sou...    $10.98   \n",
      "6                                                NaN     $1.69   \n",
      "7  [Tomatillo Red Chili Salsa, [Fajita Vegetables...    $11.75   \n",
      "8  [Tomatillo Green Chili Salsa, [Pinto Beans, Ch...     $9.25   \n",
      "9  [Fresh Tomato Salsa, [Rice, Black Beans, Pinto...     $9.25   \n"
     ]
    }
   ],
   "source": [
    "import pandas as pd\n",
    "\n",
    "url = \"https://raw.githubusercontent.com/justmarkham/DAT8/master/data/chipotle.tsv\"\n",
    "chipo = pd.read_csv(url, delimiter='\\t')\n",
    "\n",
    "print(chipo.head(10))"
   ]
  },
  {
   "cell_type": "code",
   "execution_count": 112,
   "id": "17b75d3f",
   "metadata": {},
   "outputs": [
    {
     "name": "stdout",
     "output_type": "stream",
     "text": [
      "4622\n"
     ]
    }
   ],
   "source": [
    "#number of observations\n",
    "print(chipo.shape[0])\n"
   ]
  },
  {
   "cell_type": "code",
   "execution_count": 113,
   "id": "fc6959f6",
   "metadata": {},
   "outputs": [
    {
     "name": "stdout",
     "output_type": "stream",
     "text": [
      "5\n"
     ]
    }
   ],
   "source": [
    "#number of columns\n",
    "print(chipo.shape[1])"
   ]
  },
  {
   "cell_type": "code",
   "execution_count": 114,
   "id": "a34bf067",
   "metadata": {},
   "outputs": [
    {
     "name": "stdout",
     "output_type": "stream",
     "text": [
      "Index(['order_id', 'quantity', 'item_name', 'choice_description',\n",
      "       'item_price'],\n",
      "      dtype='object')\n"
     ]
    }
   ],
   "source": [
    "#name of all the columns.\n",
    "print(chipo.columns)"
   ]
  },
  {
   "cell_type": "code",
   "execution_count": 115,
   "id": "4af74db4",
   "metadata": {},
   "outputs": [
    {
     "name": "stdout",
     "output_type": "stream",
     "text": [
      "RangeIndex(start=0, stop=4622, step=1)\n"
     ]
    }
   ],
   "source": [
    "#dataset index\n",
    "print(chipo.index)"
   ]
  },
  {
   "cell_type": "code",
   "execution_count": 117,
   "id": "6b80dab1",
   "metadata": {},
   "outputs": [
    {
     "name": "stdout",
     "output_type": "stream",
     "text": [
      "item_name\n",
      "Chicken Bowl    761\n",
      "Name: quantity, dtype: int64\n",
      "Quantity ordered: 761\n"
     ]
    }
   ],
   "source": [
    "most_ordered = chipo.groupby('item_name').quantity.sum().sort_values(ascending=False).head(1)\n",
    "print(most_ordered)\n",
    "# Get the quantity of the most-ordered item\n",
    "quantity_ordered = most_ordered.iloc[0]\n",
    "print(\"Quantity ordered:\", quantity_ordered)"
   ]
  },
  {
   "cell_type": "code",
   "execution_count": 118,
   "id": "90f1922e",
   "metadata": {},
   "outputs": [
    {
     "data": {
      "text/plain": [
       "[Diet Coke]    134\n",
       "Name: choice_description, dtype: int64"
      ]
     },
     "execution_count": 118,
     "metadata": {},
     "output_type": "execute_result"
    }
   ],
   "source": [
    "chipo['choice_description'].value_counts().head(1)"
   ]
  },
  {
   "cell_type": "code",
   "execution_count": 119,
   "id": "5233deb5",
   "metadata": {},
   "outputs": [
    {
     "name": "stdout",
     "output_type": "stream",
     "text": [
      "Total items ordered: 4972\n"
     ]
    }
   ],
   "source": [
    "total_items_ordered = chipo['quantity'].sum()\n",
    "print(\"Total items ordered:\", total_items_ordered)"
   ]
  },
  {
   "cell_type": "code",
   "execution_count": 128,
   "id": "c34a7a89",
   "metadata": {},
   "outputs": [
    {
     "name": "stdout",
     "output_type": "stream",
     "text": [
      "Number of orders: 1834\n"
     ]
    }
   ],
   "source": [
    "num_orders = chipo['order_id'].nunique()\n",
    "print(\"Number of orders:\", num_orders)"
   ]
  },
  {
   "cell_type": "code",
   "execution_count": 129,
   "id": "66a25b99",
   "metadata": {},
   "outputs": [
    {
     "name": "stdout",
     "output_type": "stream",
     "text": [
      "18.81142857142869\n"
     ]
    }
   ],
   "source": [
    "# Group orders by order_id and calculate mean of item_price\n",
    "order_revenue = chipo.groupby('order_id')['item_price'].sum()\n",
    "\n",
    "# Calculate the average revenue per order\n",
    "avg_revenue_per_order = order_revenue.mean()\n",
    "\n",
    "# Print the result\n",
    "print(avg_revenue_per_order)\n"
   ]
  },
  {
   "cell_type": "code",
   "execution_count": 130,
   "id": "b96a2496",
   "metadata": {},
   "outputs": [
    {
     "name": "stdout",
     "output_type": "stream",
     "text": [
      "50\n"
     ]
    }
   ],
   "source": [
    "num_items = len(chipo[\"item_name\"].unique())\n",
    "print(num_items)\n"
   ]
  },
  {
   "cell_type": "code",
   "execution_count": 131,
   "id": "05502196",
   "metadata": {},
   "outputs": [
    {
     "name": "stdout",
     "output_type": "stream",
     "text": [
      "The total revenue for the period in the dataset is: $ 39237.02\n"
     ]
    }
   ],
   "source": [
    "# Create a new column called revenue\n",
    "chipo['revenue'] = chipo['quantity'] * chipo['item_price']\n",
    "\n",
    "# Calculate the total revenue for the period in the dataset\n",
    "total_revenue = chipo['revenue'].sum()\n",
    "\n",
    "# Print the total revenue\n",
    "print('The total revenue for the period in the dataset is: $', round(total_revenue, 2))\n"
   ]
  },
  {
   "cell_type": "markdown",
   "id": "8992910e",
   "metadata": {},
   "source": [
    "\n",
    "\n"
   ]
  },
  {
   "cell_type": "markdown",
   "id": "5caba89f",
   "metadata": {},
   "source": [
    "## Question 6"
   ]
  },
  {
   "cell_type": "code",
   "execution_count": 2,
   "id": "c6e5b2f5",
   "metadata": {},
   "outputs": [
    {
     "data": {
      "image/png": "[encoded data removed]",
      "text/plain": [
       "<Figure size 640x480 with 1 Axes>"
      ]
     },
     "metadata": {},
     "output_type": "display_data"
    }
   ],
   "source": [
    "import pandas as pd\n",
    "import matplotlib.pyplot as plt\n",
    "\n",
    "# Read the data from the CSV file\n",
    "df = pd.read_csv('us-marriages-divorces-1867-2014.csv')\n",
    "\n",
    "# Create the line plot\n",
    "plt.plot(df['Year'], df['Marriages_per_1000'], label='Marriages')\n",
    "plt.plot(df['Year'], df['Divorces_per_1000'], label='Divorces')\n",
    "\n",
    "# Add labels and title\n",
    "plt.xlabel('Year')\n",
    "plt.ylabel('Number per 1000')\n",
    "plt.title('Marriages and Divorces per Capita in the U.S. (1867-2014)')\n",
    "\n",
    "# Show the legend\n",
    "plt.legend()\n",
    "\n",
    "# Show the plot\n",
    "plt.show()"
   ]
  },
  {
   "cell_type": "markdown",
   "id": "8e4ad78c",
   "metadata": {},
   "source": [
    "\n",
    "\n"
   ]
  },
  {
   "cell_type": "markdown",
   "id": "b8e32489",
   "metadata": {},
   "source": [
    "## Question 7"
   ]
  },
  {
   "cell_type": "code",
   "execution_count": 4,
   "id": "d4323bec",
   "metadata": {
    "scrolled": false
   },
   "outputs": [
    {
     "data": {
      "image/png": "[encoded data removed]",
      "text/plain": [
       "<Figure size 640x480 with 1 Axes>"
      ]
     },
     "metadata": {},
     "output_type": "display_data"
    }
   ],
   "source": [
    "import matplotlib.pyplot as plt\n",
    "import pandas as pd\n",
    "\n",
    "# load the dataset\n",
    "df = pd.read_csv('us-marriages-divorces-1867-2014.csv')\n",
    "\n",
    "# select the rows for 1900, 1950, and 2000\n",
    "years = [1900, 1950, 2000]\n",
    "df_years = df.loc[df['Year'].isin(years)]\n",
    "# create a vertical bar chart\n",
    "df_years.plot(x='Year', y=['Marriages_per_1000', 'Divorces_per_1000'], kind='bar')\n",
    "\n",
    "# set the title and axis labels\n",
    "plt.title('Marriages and Divorces per Capita in the U.S. (1900, 1950, and 2000)')\n",
    "plt.xlabel('Year')\n",
    "plt.ylabel('Per 1000 Population')\n",
    "\n",
    "# show the plot\n",
    "plt.show()"
   ]
  },
  {
   "cell_type": "markdown",
   "id": "3e8a88df",
   "metadata": {},
   "source": [
    "\n",
    "\n"
   ]
  },
  {
   "cell_type": "markdown",
   "id": "b87d4316",
   "metadata": {},
   "source": [
    "## Question 8"
   ]
  },
  {
   "cell_type": "code",
   "execution_count": 5,
   "id": "8adefb53",
   "metadata": {},
   "outputs": [
    {
     "data": {
      "image/png": "[encoded data removed]",
      "text/plain": [
       "<Figure size 640x480 with 1 Axes>"
      ]
     },
     "metadata": {},
     "output_type": "display_data"
    }
   ],
   "source": [
    "import pandas as pd\n",
    "import matplotlib.pyplot as plt\n",
    "\n",
    "# Load data from CSV file\n",
    "df = pd.read_csv(\"actor_kill_counts.csv\")\n",
    "\n",
    "# Sort the data by count\n",
    "df = df.sort_values(\"Count\", ascending=False)\n",
    "\n",
    "# Create horizontal bar chart\n",
    "plt.barh(df[\"Actor\"], df[\"Count\"], color=\"red\")\n",
    "\n",
    "# Set labels and title\n",
    "plt.xlabel(\"Kill Count\")\n",
    "plt.ylabel(\"Actor\")\n",
    "plt.title(\"Deadliest Actors in Hollywood\")\n",
    "\n",
    "# Show plot\n",
    "plt.show()"
   ]
  },
  {
   "cell_type": "markdown",
   "id": "7e13170a",
   "metadata": {},
   "source": [
    "\n",
    "\n"
   ]
  },
  {
   "cell_type": "markdown",
   "id": "abbd30b5",
   "metadata": {},
   "source": [
    "## Question 9"
   ]
  },
  {
   "cell_type": "code",
   "execution_count": 6,
   "id": "92c48f98",
   "metadata": {},
   "outputs": [
    {
     "data": {
      "image/png": "[encoded data removed]",
      "text/plain": [
       "<Figure size 640x480 with 1 Axes>"
      ]
     },
     "metadata": {},
     "output_type": "display_data"
    }
   ],
   "source": [
    "import pandas as pd\n",
    "import matplotlib.pyplot as plt\n",
    "\n",
    "# Load the data from the CSV file\n",
    "data = pd.read_csv(\"roman-emperor-reigns.csv\")\n",
    "\n",
    "# Count the number of emperors who were assassinated\n",
    "assassinated = data[\"Cause_of_Death\"].str.contains(\"Assassinated\").sum()\n",
    "\n",
    "# Count the number of emperors who died of other causes\n",
    "other_causes = len(data) - assassinated\n",
    "\n",
    "# Create a pie chart\n",
    "labels = [\"Assassinated\", \"Other causes\"]\n",
    "sizes = [assassinated, other_causes]\n",
    "explode = (0.1, 0)\n",
    "fig1, ax1 = plt.subplots()\n",
    "ax1.pie(sizes, explode=explode, labels=labels, autopct='%1.1f%%',\n",
    "        shadow=True, startangle=90)\n",
    "ax1.axis('equal')\n",
    "\n",
    "# Add a title\n",
    "ax1.set_title(\"Cause of death of Roman Emperors\")\n",
    "\n",
    "# Show the plot\n",
    "plt.show()\n"
   ]
  },
  {
   "cell_type": "markdown",
   "id": "6b910921",
   "metadata": {},
   "source": [
    "\n",
    "\n"
   ]
  },
  {
   "cell_type": "markdown",
   "id": "73b9cd62",
   "metadata": {},
   "source": [
    "## Question 10"
   ]
  },
  {
   "cell_type": "code",
   "execution_count": 7,
   "id": "f80cd2a1",
   "metadata": {
    "scrolled": true
   },
   "outputs": [
    {
     "data": {
      "image/png": "[encoded data removed]",
      "text/plain": [
       "<Figure size 1000x800 with 2 Axes>"
      ]
     },
     "metadata": {},
     "output_type": "display_data"
    }
   ],
   "source": [
    "import matplotlib.pyplot as plt\n",
    "import pandas as pd\n",
    "\n",
    "# Load the data from CSV file\n",
    "data = pd.read_csv(\"arcade-revenue-vs-cs-doctorates.csv\")\n",
    "\n",
    "# Set the size of the figure\n",
    "plt.figure(figsize=(10, 8))\n",
    "\n",
    "# Create a scatter plot with revenue on the x-axis and CS PhDs on the y-axis\n",
    "plt.scatter(data[\"Total Arcade Revenue (billions)\"], data[\"Computer Science Doctorates Awarded (US)\"], c=data[\"Year\"])\n",
    "\n",
    "# Add a color bar to show the years\n",
    "plt.colorbar(label=\"Year\")\n",
    "\n",
    "# Add axis labels and a title\n",
    "plt.xlabel(\"Total Arcade Revenue (billions)\")\n",
    "plt.ylabel(\"Computer Science Doctorates Awarded (US)\")\n",
    "plt.title(\"Relationship Between Arcade Revenue and CS Doctorates (2000-2009)\")\n",
    "\n",
    "# Display the plot\n",
    "plt.show()\n"
   ]
  },
  {
   "cell_type": "code",
   "execution_count": null,
   "id": "ec3d3eb6",
   "metadata": {},
   "outputs": [],
   "source": []
  }
 ],
 "metadata": {
  "kernelspec": {
   "display_name": "Python 3 (ipykernel)",
   "language": "python",
   "name": "python3"
  },
  "language_info": {
   "codemirror_mode": {
    "name": "ipython",
    "version": 3
   },
   "file_extension": ".py",
   "mimetype": "text/x-python",
   "name": "python",
   "nbconvert_exporter": "python",
   "pygments_lexer": "ipython3",
   "version": "3.9.13"
  }
 },
 "nbformat": 4,
 "nbformat_minor": 5
}
